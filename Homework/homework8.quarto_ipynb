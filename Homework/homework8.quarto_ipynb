{
  "cells": [
    {
      "cell_type": "markdown",
      "metadata": {},
      "source": [
        "---\n",
        "title: \"Homework 8\"\n",
        "highlight-style: a11y-dark\n",
        "---\n",
        "\n",
        "\n",
        "<!-- ### [Key](homework8_key.qmd) -->\n",
        "\n",
        "<!-- Click link above for answers to homework 8. -->\n",
        "\n",
        "### Instructions\n",
        "Answer each of the following questions. Be sure to display **all your code in the rendered** version (use `echo: true` throughout[^longnote]). \n",
        "\n",
        "[^longnote]: You can make this a global option for your whole document by putting it directly in the YAML of your qmd:\n",
        "\n",
        "\n",
        "    ```{YAML}\n",
        "    ---\n",
        "    title: \"My Document\"\n",
        "    execute:\n",
        "      echo: true\n",
        "    ---\n",
        "    ```\n",
        "\n",
        "\n",
        "### Exercises\n",
        "\n",
        "#### Question 1: \n",
        "\n",
        "Given a vector of birthdates^[Assume `mdy` format for this vector.], write a function to compute the age in years^[Depending upon how you want to solve this problem, the lubridate functions `today()` and `time_length()` could be useful here :)].\n",
        "\n",
        "#### Question 2: \n",
        "\n",
        "For each of the following functions list all arguments that use tidy evaluation and describe whether they use data-masking or tidy-selection: `distinct()`, `count()`, `group_by()`^[Note: `group_by()` doesn't list what type of tidy evaluation it uses for its `...` argument but you can find the answer in the introduction to [this](https://dplyr.tidyverse.org/articles/programming.html) article.], `rename_with()`, `slice_min()`, `slice_sample()`.\n",
        "\n",
        "#### Question 3:\n",
        "\n",
        "Build up a rich plotting function by incrementally implementing each of the steps below:\n",
        "\n",
        "* Draw a scatterplot given `dataset` and `x` and `y` variables.\n",
        "* Add a line of best fit (i.e. a linear model with no standard errors)^[`geom_smooth()` has a `method` and `se` argument that will be necessary to specify here.].  \n",
        "* Add a title that includes the names of the variables used.\n",
        "\n",
        "Test your function with the built-in `cars`, `swiss`, and `iris` datasets.\n"
      ],
      "id": "302b595e"
    }
  ],
  "metadata": {
    "kernelspec": {
      "display_name": "Python 3",
      "language": "python",
      "name": "python3"
    }
  },
  "nbformat": 4,
  "nbformat_minor": 5
}